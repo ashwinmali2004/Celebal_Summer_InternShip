{
 "cells": [
  {
   "cell_type": "code",
   "execution_count": 1,
   "id": "95d72c06-6921-4220-8d97-95c0677da9d2",
   "metadata": {},
   "outputs": [],
   "source": [
    "# Importing necessary libraries\n",
    "import numpy as np\n",
    "import pandas as pd\n",
    "\n",
    "from sklearn.datasets import load_iris\n",
    "from sklearn.model_selection import train_test_split, GridSearchCV, RandomizedSearchCV\n",
    "from sklearn.metrics import accuracy_score, precision_score, recall_score, f1_score, classification_report\n",
    "from sklearn.preprocessing import StandardScaler\n",
    "\n",
    "# Classifiers\n",
    "from sklearn.linear_model import LogisticRegression\n",
    "from sklearn.ensemble import RandomForestClassifier\n",
    "from sklearn.svm import SVC\n",
    "from sklearn.tree import DecisionTreeClassifier\n",
    "from sklearn.neighbors import KNeighborsClassifier\n",
    "\n",
    "import warnings\n",
    "warnings.filterwarnings('ignore')"
   ]
  },
  {
   "cell_type": "markdown",
   "id": "89982952-5155-4c93-8658-796c771c09c3",
   "metadata": {},
   "source": [
    "# Load Dataset"
   ]
  },
  {
   "cell_type": "code",
   "execution_count": 2,
   "id": "416f2c41-59d3-4cf9-b166-d78c0b431e6e",
   "metadata": {},
   "outputs": [],
   "source": [
    "# Load Iris dataset\n",
    "iris = load_iris()\n",
    "X = iris.data\n",
    "y = iris.target\n",
    "\n",
    "# Split the dataset\n",
    "X_train, X_test, y_train, y_test = train_test_split(X, y, test_size=0.2, random_state=42, stratify=y)\n",
    "\n",
    "# Standardize features\n",
    "scaler = StandardScaler()\n",
    "X_train = scaler.fit_transform(X_train)\n",
    "X_test = scaler.transform(X_test)\n"
   ]
  },
  {
   "cell_type": "markdown",
   "id": "0a62714e-1887-4d03-b1e1-38c6e4cc2b1f",
   "metadata": {},
   "source": [
    "# Train and Evaluate Multiple Models"
   ]
  },
  {
   "cell_type": "code",
   "execution_count": 3,
   "id": "b02b96ba-dbfc-4688-b786-d103491e797d",
   "metadata": {},
   "outputs": [
    {
     "data": {
      "text/html": [
       "<div>\n",
       "<style scoped>\n",
       "    .dataframe tbody tr th:only-of-type {\n",
       "        vertical-align: middle;\n",
       "    }\n",
       "\n",
       "    .dataframe tbody tr th {\n",
       "        vertical-align: top;\n",
       "    }\n",
       "\n",
       "    .dataframe thead th {\n",
       "        text-align: right;\n",
       "    }\n",
       "</style>\n",
       "<table border=\"1\" class=\"dataframe\">\n",
       "  <thead>\n",
       "    <tr style=\"text-align: right;\">\n",
       "      <th></th>\n",
       "      <th>Model</th>\n",
       "      <th>Accuracy</th>\n",
       "      <th>Precision</th>\n",
       "      <th>Recall</th>\n",
       "      <th>F1 Score</th>\n",
       "    </tr>\n",
       "  </thead>\n",
       "  <tbody>\n",
       "    <tr>\n",
       "      <th>1</th>\n",
       "      <td>Random Forest</td>\n",
       "      <td>0.966667</td>\n",
       "      <td>0.969697</td>\n",
       "      <td>0.966667</td>\n",
       "      <td>0.966583</td>\n",
       "    </tr>\n",
       "    <tr>\n",
       "      <th>2</th>\n",
       "      <td>Support Vector Machine</td>\n",
       "      <td>0.966667</td>\n",
       "      <td>0.969697</td>\n",
       "      <td>0.966667</td>\n",
       "      <td>0.966583</td>\n",
       "    </tr>\n",
       "    <tr>\n",
       "      <th>3</th>\n",
       "      <td>Decision Tree</td>\n",
       "      <td>0.966667</td>\n",
       "      <td>0.969697</td>\n",
       "      <td>0.966667</td>\n",
       "      <td>0.966583</td>\n",
       "    </tr>\n",
       "    <tr>\n",
       "      <th>0</th>\n",
       "      <td>Logistic Regression</td>\n",
       "      <td>0.933333</td>\n",
       "      <td>0.933333</td>\n",
       "      <td>0.933333</td>\n",
       "      <td>0.933333</td>\n",
       "    </tr>\n",
       "    <tr>\n",
       "      <th>4</th>\n",
       "      <td>K-Nearest Neighbors</td>\n",
       "      <td>0.933333</td>\n",
       "      <td>0.944444</td>\n",
       "      <td>0.933333</td>\n",
       "      <td>0.932660</td>\n",
       "    </tr>\n",
       "  </tbody>\n",
       "</table>\n",
       "</div>"
      ],
      "text/plain": [
       "                    Model  Accuracy  Precision    Recall  F1 Score\n",
       "1           Random Forest  0.966667   0.969697  0.966667  0.966583\n",
       "2  Support Vector Machine  0.966667   0.969697  0.966667  0.966583\n",
       "3           Decision Tree  0.966667   0.969697  0.966667  0.966583\n",
       "0     Logistic Regression  0.933333   0.933333  0.933333  0.933333\n",
       "4     K-Nearest Neighbors  0.933333   0.944444  0.933333  0.932660"
      ]
     },
     "execution_count": 3,
     "metadata": {},
     "output_type": "execute_result"
    }
   ],
   "source": [
    "# Define models\n",
    "models = {\n",
    "    \"Logistic Regression\": LogisticRegression(),\n",
    "    \"Random Forest\": RandomForestClassifier(),\n",
    "    \"Support Vector Machine\": SVC(),\n",
    "    \"Decision Tree\": DecisionTreeClassifier(),\n",
    "    \"K-Nearest Neighbors\": KNeighborsClassifier()\n",
    "}\n",
    "\n",
    "# Evaluate models\n",
    "results = []\n",
    "\n",
    "for name, model in models.items():\n",
    "    model.fit(X_train, y_train)\n",
    "    y_pred = model.predict(X_test)\n",
    "\n",
    "    results.append({\n",
    "        \"Model\": name,\n",
    "        \"Accuracy\": accuracy_score(y_test, y_pred),\n",
    "        \"Precision\": precision_score(y_test, y_pred, average='macro'),\n",
    "        \"Recall\": recall_score(y_test, y_pred, average='macro'),\n",
    "        \"F1 Score\": f1_score(y_test, y_pred, average='macro')\n",
    "    })\n",
    "\n",
    "# Show results\n",
    "results_df = pd.DataFrame(results).sort_values(by=\"F1 Score\", ascending=False)\n",
    "results_df\n"
   ]
  },
  {
   "cell_type": "markdown",
   "id": "4aa1e158-9e94-4fc5-88d5-dce4220a30f5",
   "metadata": {},
   "source": [
    "# Hyperparameter Tuning\n",
    "GridSearchCV for SVM"
   ]
  },
  {
   "cell_type": "code",
   "execution_count": 4,
   "id": "aa1eacaf-ba97-4a0a-8d74-3a820bd53717",
   "metadata": {},
   "outputs": [
    {
     "name": "stdout",
     "output_type": "stream",
     "text": [
      "Best Parameters for SVM (GridSearch): {'C': 1, 'gamma': 'scale', 'kernel': 'linear'}\n",
      "Best F1 Score: 0.9749019607843138\n"
     ]
    }
   ],
   "source": [
    "param_grid_svm = {\n",
    "    'C': [0.1, 1, 10],\n",
    "    'kernel': ['linear', 'rbf'],\n",
    "    'gamma': ['scale', 'auto']\n",
    "}\n",
    "\n",
    "grid_svm = GridSearchCV(SVC(), param_grid_svm, cv=5, scoring='f1_macro')\n",
    "grid_svm.fit(X_train, y_train)\n",
    "\n",
    "print(\"Best Parameters for SVM (GridSearch):\", grid_svm.best_params_)\n",
    "print(\"Best F1 Score:\", grid_svm.best_score_)\n"
   ]
  },
  {
   "cell_type": "markdown",
   "id": "399d9d77-8b11-4130-a793-5f2c90dda7fc",
   "metadata": {},
   "source": [
    "RandomizedSearchCV for Random Forest"
   ]
  },
  {
   "cell_type": "code",
   "execution_count": 5,
   "id": "07546ea5-8468-4c35-ad62-11f96647fa7e",
   "metadata": {},
   "outputs": [
    {
     "name": "stdout",
     "output_type": "stream",
     "text": [
      "Best Parameters for RF (RandomizedSearch): {'n_estimators': 200, 'min_samples_split': 5, 'max_depth': 10, 'criterion': 'entropy'}\n",
      "Best F1 Score: 0.9581699346405228\n"
     ]
    }
   ],
   "source": [
    "param_dist_rf = {\n",
    "    'n_estimators': [50, 100, 200],\n",
    "    'max_depth': [None, 10, 20, 30],\n",
    "    'min_samples_split': [2, 5, 10],\n",
    "    'criterion': ['gini', 'entropy']\n",
    "}\n",
    "\n",
    "random_rf = RandomizedSearchCV(RandomForestClassifier(), param_distributions=param_dist_rf,\n",
    "                               n_iter=10, cv=5, scoring='f1_macro', random_state=42)\n",
    "random_rf.fit(X_train, y_train)\n",
    "\n",
    "print(\"Best Parameters for RF (RandomizedSearch):\", random_rf.best_params_)\n",
    "print(\"Best F1 Score:\", random_rf.best_score_)\n"
   ]
  },
  {
   "cell_type": "markdown",
   "id": "5dc3c284-8abc-4fa8-a78d-98e533707240",
   "metadata": {},
   "source": [
    "# Final Evaluation of Best Models"
   ]
  },
  {
   "cell_type": "code",
   "execution_count": 6,
   "id": "66cfabfc-48f4-446a-9fb5-07c8cd556aa4",
   "metadata": {},
   "outputs": [
    {
     "name": "stdout",
     "output_type": "stream",
     "text": [
      "\n",
      "Classification Report for Tuned SVM:\n",
      "              precision    recall  f1-score   support\n",
      "\n",
      "           0       1.00      1.00      1.00        10\n",
      "           1       1.00      1.00      1.00        10\n",
      "           2       1.00      1.00      1.00        10\n",
      "\n",
      "    accuracy                           1.00        30\n",
      "   macro avg       1.00      1.00      1.00        30\n",
      "weighted avg       1.00      1.00      1.00        30\n",
      "\n",
      "\n",
      "Classification Report for Tuned Random Forest:\n",
      "              precision    recall  f1-score   support\n",
      "\n",
      "           0       1.00      1.00      1.00        10\n",
      "           1       1.00      0.90      0.95        10\n",
      "           2       0.91      1.00      0.95        10\n",
      "\n",
      "    accuracy                           0.97        30\n",
      "   macro avg       0.97      0.97      0.97        30\n",
      "weighted avg       0.97      0.97      0.97        30\n",
      "\n"
     ]
    }
   ],
   "source": [
    "# Evaluate best SVM\n",
    "best_svm = grid_svm.best_estimator_\n",
    "y_pred_svm = best_svm.predict(X_test)\n",
    "\n",
    "print(\"\\nClassification Report for Tuned SVM:\")\n",
    "print(classification_report(y_test, y_pred_svm))\n",
    "\n",
    "# Evaluate best RF\n",
    "best_rf = random_rf.best_estimator_\n",
    "y_pred_rf = best_rf.predict(X_test)\n",
    "\n",
    "print(\"\\nClassification Report for Tuned Random Forest:\")\n",
    "print(classification_report(y_test, y_pred_rf))"
   ]
  },
  {
   "cell_type": "markdown",
   "id": "4b97ba63-d5ac-4d0f-87f1-7e5d7381e05e",
   "metadata": {},
   "source": [
    "# Summary & Best Model Selection"
   ]
  },
  {
   "cell_type": "code",
   "execution_count": 9,
   "id": "8bb3a287-18bb-4d97-bb4f-4230309bd3c5",
   "metadata": {},
   "outputs": [
    {
     "name": "stdout",
     "output_type": "stream",
     "text": [
      "\n",
      "Best Performing Model After Tuning: Tuned SVM with F1 Score = 1.0000\n"
     ]
    }
   ],
   "source": [
    "final_results = {\n",
    "    \"Tuned SVM\": f1_score(y_test, y_pred_svm, average='macro'),\n",
    "    \"Tuned RF\": f1_score(y_test, y_pred_rf, average='macro')\n",
    "}\n",
    "\n",
    "best_model_name = max(final_results, key=final_results.get)\n",
    "print(f\"\\nBest Performing Model After Tuning: {best_model_name} with F1 Score = {final_results[best_model_name]:.4f}\")\n"
   ]
  },
  {
   "cell_type": "markdown",
   "id": "c7f36f05-b416-4f58-a257-40483c4919cf",
   "metadata": {},
   "source": [
    "# Conclusion"
   ]
  }
 ],
 "metadata": {
  "kernelspec": {
   "display_name": "Python 3 (ipykernel)",
   "language": "python",
   "name": "python3"
  },
  "language_info": {
   "codemirror_mode": {
    "name": "ipython",
    "version": 3
   },
   "file_extension": ".py",
   "mimetype": "text/x-python",
   "name": "python",
   "nbconvert_exporter": "python",
   "pygments_lexer": "ipython3",
   "version": "3.12.7"
  }
 },
 "nbformat": 4,
 "nbformat_minor": 5
}
